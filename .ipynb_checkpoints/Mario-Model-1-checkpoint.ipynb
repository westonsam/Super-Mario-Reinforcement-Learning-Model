{
 "cells": [
  {
   "cell_type": "markdown",
   "id": "0b0d6c6a-1e68-4483-bff7-5824c681f3a7",
   "metadata": {},
   "source": [
    "# 1. Setup Mario Environment"
   ]
  },
  {
   "cell_type": "markdown",
   "id": "5dd0152e-0241-4788-80be-52cb9a3cb092",
   "metadata": {},
   "source": [
    "# 2. Preprocess Environment"
   ]
  },
  {
   "cell_type": "markdown",
   "id": "ea5982c7-5f94-41ac-8cf1-e2b70a747dca",
   "metadata": {},
   "source": [
    "# 3. Train RL Model"
   ]
  },
  {
   "cell_type": "markdown",
   "id": "e3bc6634-2782-4479-ad14-81aecc4fd10a",
   "metadata": {},
   "source": [
    "# 4. Test Model"
   ]
  },
  {
   "cell_type": "markdown",
   "id": "bfac2c13-2ecf-46f9-a38e-7f5b0bfa1ca7",
   "metadata": {},
   "source": [
    "# 5. Iterate"
   ]
  }
 ],
 "metadata": {
  "kernelspec": {
   "display_name": "Python 3 (ipykernel)",
   "language": "python",
   "name": "python3"
  },
  "language_info": {
   "codemirror_mode": {
    "name": "ipython",
    "version": 3
   },
   "file_extension": ".py",
   "mimetype": "text/x-python",
   "name": "python",
   "nbconvert_exporter": "python",
   "pygments_lexer": "ipython3",
   "version": "3.11.4"
  }
 },
 "nbformat": 4,
 "nbformat_minor": 5
}
